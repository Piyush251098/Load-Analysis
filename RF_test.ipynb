{
 "cells": [
  {
   "cell_type": "code",
   "execution_count": 2,
   "metadata": {},
   "outputs": [],
   "source": [
    "import pickle\n",
    "import pandas as pd\n",
    "import numpy as np\n",
    "import seaborn as sns\n",
    "from sklearn.preprocessing import LabelEncoder\n",
    "from sklearn.metrics import confusion_matrix\n",
    "from matplotlib import pyplot as plt"
   ]
  },
  {
   "cell_type": "code",
   "execution_count": 3,
   "metadata": {},
   "outputs": [],
   "source": [
    "loaded_model = pickle.load(open('RF_classifier.pk1', 'rb'))"
   ]
  },
  {
   "cell_type": "code",
   "execution_count": 4,
   "metadata": {},
   "outputs": [
    {
     "name": "stderr",
     "output_type": "stream",
     "text": [
      "/var/folders/wz/3mjzhwcs2tv1nm74yrlj4pwr0000gn/T/ipykernel_25158/2098777417.py:9: SettingWithCopyWarning: \n",
      "A value is trying to be set on a copy of a slice from a DataFrame.\n",
      "Try using .loc[row_indexer,col_indexer] = value instead\n",
      "\n",
      "See the caveats in the documentation: https://pandas.pydata.org/pandas-docs/stable/user_guide/indexing.html#returning-a-view-versus-a-copy\n",
      "  df[column] = df[column].fillna(0)\n"
     ]
    },
    {
     "name": "stdout",
     "output_type": "stream",
     "text": [
      "   UNIT               Unnamed: 1  Unnamed: 2 Unnamed: 3     V Unnamed: 5  \\\n",
      "1   1.0  2022/03/04 14:29:08.062         0.0   _LL-FXXf  0.00        Low   \n",
      "2   2.0  2022/03/04 14:29:08.558         0.0   _LL-FXXf  0.00        Low   \n",
      "3   3.0  2022/03/04 14:29:09.058         0.0   _LL-FXXf  0.00        Low   \n",
      "4   4.0  2022/03/04 14:29:09.558         0.0   _LL-FXXf  0.00        Low   \n",
      "5   5.0  2022/03/04 14:29:10.058         0.0   _LL-FXXf  0.01        Low   \n",
      "\n",
      "   Unnamed: 6  Unnamed: 7  Unnamed: 8  V.1  ...  µStrain.53  µStrain.54  \\\n",
      "1         0.0         1.0         0.0 -0.0  ...         0.2         0.5   \n",
      "2         0.0         2.0         0.0 -0.0  ...        -0.5         0.0   \n",
      "3         0.0         3.0         0.0 -0.0  ...         0.3        -0.1   \n",
      "4         0.0         4.0         0.0 -0.0  ...         0.2         0.5   \n",
      "5         0.0         5.0         0.0 -0.0  ...        -0.0         0.3   \n",
      "\n",
      "   µStrain.55  µStrain.56  µStrain.57  µStrain.58  µStrain.59  µStrain.60  \\\n",
      "1        -0.1         1.0         0.0         1.1         0.5         0.3   \n",
      "2         0.7         0.9         0.9         1.5         1.2        -0.1   \n",
      "3         0.7         0.9        -0.7         0.4         1.0        -0.8   \n",
      "4         0.1         1.2         0.1         1.1         0.7        -0.7   \n",
      "5        -0.0         0.7         1.0         1.5         0.9        -0.6   \n",
      "\n",
      "   µStrain.61        Target  \n",
      "1         0.5  0.0-_LL-FXXf  \n",
      "2         1.7  0.0-_LL-FXXf  \n",
      "3         1.0  0.0-_LL-FXXf  \n",
      "4         0.8  0.0-_LL-FXXf  \n",
      "5         1.1  0.0-_LL-FXXf  \n",
      "\n",
      "[5 rows x 105 columns]\n",
      "(12026811, 105)\n"
     ]
    },
    {
     "name": "stderr",
     "output_type": "stream",
     "text": [
      "/var/folders/wz/3mjzhwcs2tv1nm74yrlj4pwr0000gn/T/ipykernel_25158/2098777417.py:24: SettingWithCopyWarning: \n",
      "A value is trying to be set on a copy of a slice from a DataFrame.\n",
      "Try using .loc[row_indexer,col_indexer] = value instead\n",
      "\n",
      "See the caveats in the documentation: https://pandas.pydata.org/pandas-docs/stable/user_guide/indexing.html#returning-a-view-versus-a-copy\n",
      "  df['Target1'] = df['Target'].apply(find_replace)\n"
     ]
    }
   ],
   "source": [
    "\n",
    "data = pd.read_parquet('/Users/piyush/StudienArbeit/last.parquet')\n",
    "values = ['0.0-_LL-FXXf', '0.6-_LL-FXXf', '0.2-_LL-FXXf', '0.4-_LL-FXXf', '0.5-_LL-FXXf', '0.65-_LL-FXXf', '0.7-_LL-FXXf', '0.75-_LL-FXXf' \n",
    ", '0.0-_LL-LBLf', '0.6-_LL-LBLf', '0.2-_LL-LBLf', '0.4-_LL-LBLf', '0.5-_LL-LBLf', '0.65-_LL-LBLf', '0.7-_LL-LBLf', '0.75-_LL-LBLf'\n",
    ", '0.0-_LL-VBDf', '0.6-_LL-VBDf', '0.2-_LL-VBDf', '0.4-_LL-VBDf', '0.5-_LL-VBDf', '0.65-_LL-VBDf', '0.7-_LL-VBDf', '0.75-_LL-VBDf']\n",
    "df = data[data.Target.isin(values) == True]\n",
    "\n",
    "column_to_replace = ['µStrain', 'µStrain.1', 'µStrain.2', 'µStrain.3', 'µStrain.4', 'µStrain.5', 'µStrain.6', 'µStrain.7', 'µStrain.8', 'µStrain.9', 'µStrain.10', 'µStrain.11', 'µStrain.12', 'µStrain.13', 'µStrain.14', 'µStrain.15', 'µStrain.16', 'µStrain.17', 'µStrain.18', 'µStrain.19', 'µStrain.20', 'µStrain.21', 'µStrain.22', 'µStrain.23', 'µStrain.24', 'µStrain.25', 'µStrain.26', 'µStrain.27', 'µStrain.28', 'µStrain.29', 'µStrain.30', 'µStrain.31', 'µStrain.32', 'µStrain.33', 'µStrain.34', 'µStrain.35', 'µStrain.36', 'µStrain.37', 'µStrain.38', 'µStrain.39', 'µStrain.40', 'µStrain.41', 'µStrain.42', 'µStrain.43', 'µStrain.44', 'µStrain.45', 'µStrain.46', 'µStrain.47', 'µStrain.48', 'µStrain.49', 'µStrain.50', 'µStrain.51', 'µStrain.52', 'µStrain.53','µStrain.54','µStrain.55','µStrain.56','µStrain.57','µStrain.58','µStrain.59','µStrain.60','µStrain.61']\n",
    "for column in column_to_replace:\n",
    "    df[column] = df[column].fillna(0)\n",
    "print(df.head())\n",
    "print(df.shape)\n",
    "\n",
    "def find_replace(target):\n",
    "    if target=='0.0-_LL-FXXf':\n",
    "        return '0'\n",
    "    elif target=='0.0-_LL-LBLf':\n",
    "        return '0'\n",
    "    elif target == '0.0-_LL-VBDf':\n",
    "        return '0'\n",
    "    else :\n",
    "        return target\n",
    "    \n",
    "\n",
    "df['Target1'] = df['Target'].apply(find_replace)\n",
    "\n",
    "print(df)"
   ]
  },
  {
   "cell_type": "code",
   "execution_count": null,
   "metadata": {},
   "outputs": [
    {
     "name": "stdout",
     "output_type": "stream",
     "text": [
      "[ 0  4  7 10 13 16 19 20  5  2  8 11 14 17 21 15  6  3  9 12 18  1]\n",
      "Target1\n",
      "0     3612146\n",
      "6      975796\n",
      "12     941260\n",
      "21     928229\n",
      "10     928223\n",
      "11     928211\n",
      "5      928210\n",
      "20     928204\n",
      "4      928204\n",
      "19     928193\n",
      "18         20\n",
      "15         19\n",
      "9          16\n",
      "2          12\n",
      "14         12\n",
      "17         12\n",
      "8          10\n",
      "16          9\n",
      "3           9\n",
      "13          8\n",
      "7           6\n",
      "1           2\n",
      "Name: count, dtype: int64\n",
      "1           0\n",
      "2           0\n",
      "3           0\n",
      "4           0\n",
      "5           0\n",
      "           ..\n",
      "12029066    0\n",
      "12029067    0\n",
      "12029068    0\n",
      "12029069    0\n",
      "12029070    0\n",
      "Name: Target1, Length: 12026811, dtype: int64\n"
     ]
    },
    {
     "name": "stderr",
     "output_type": "stream",
     "text": [
      "/var/folders/wz/3mjzhwcs2tv1nm74yrlj4pwr0000gn/T/ipykernel_1007/1515163496.py:2: SettingWithCopyWarning: \n",
      "A value is trying to be set on a copy of a slice from a DataFrame.\n",
      "Try using .loc[row_indexer,col_indexer] = value instead\n",
      "\n",
      "See the caveats in the documentation: https://pandas.pydata.org/pandas-docs/stable/user_guide/indexing.html#returning-a-view-versus-a-copy\n",
      "  df['Target1'] = label_encoder.fit_transform(df.loc[:,'Target1'])\n"
     ]
    }
   ],
   "source": [
    "\n",
    "\n",
    "label_encoder = LabelEncoder()\n",
    "df['Target1'] = label_encoder.fit_transform(df.loc[:,'Target1'])\n",
    "print(df['Target1'].unique())\n",
    "print(df['Target1'].value_counts())\n",
    "y = df['Target1']\n",
    "print(y)"
   ]
  },
  {
   "cell_type": "code",
   "execution_count": 5,
   "metadata": {},
   "outputs": [
    {
     "name": "stdout",
     "output_type": "stream",
     "text": [
      "Accuracy:  0.9656092541904916\n"
     ]
    }
   ],
   "source": [
    "X = df.iloc[:, 42:103].values\n",
    "\n",
    "accuracy = loaded_model.score(X,y)\n",
    "print('Accuracy: ', accuracy)\n"
   ]
  },
  {
   "cell_type": "code",
   "execution_count": 1,
   "metadata": {},
   "outputs": [
    {
     "ename": "NameError",
     "evalue": "name 'loaded_model' is not defined",
     "output_type": "error",
     "traceback": [
      "\u001b[0;31m---------------------------------------------------------------------------\u001b[0m",
      "\u001b[0;31mNameError\u001b[0m                                 Traceback (most recent call last)",
      "\u001b[1;32m/Users/piyush/StudienArbeit/RF_test.ipynb Cell 6\u001b[0m line \u001b[0;36m1\n\u001b[0;32m----> <a href='vscode-notebook-cell:/Users/piyush/StudienArbeit/RF_test.ipynb#W5sZmlsZQ%3D%3D?line=0'>1</a>\u001b[0m predictions \u001b[39m=\u001b[39m loaded_model\u001b[39m.\u001b[39mpredict(X)\n",
      "\u001b[0;31mNameError\u001b[0m: name 'loaded_model' is not defined"
     ]
    }
   ],
   "source": [
    "predictions = loaded_model.predict(X)"
   ]
  },
  {
   "cell_type": "code",
   "execution_count": 1,
   "metadata": {},
   "outputs": [
    {
     "ename": "NameError",
     "evalue": "name 'y' is not defined",
     "output_type": "error",
     "traceback": [
      "\u001b[0;31m---------------------------------------------------------------------------\u001b[0m",
      "\u001b[0;31mNameError\u001b[0m                                 Traceback (most recent call last)",
      "\u001b[1;32m/Users/piyush/StudienArbeit/RF_test.ipynb Cell 7\u001b[0m line \u001b[0;36m2\n\u001b[1;32m      <a href='vscode-notebook-cell:/Users/piyush/StudienArbeit/RF_test.ipynb#W6sZmlsZQ%3D%3D?line=0'>1</a>\u001b[0m \u001b[39mfrom\u001b[39;00m \u001b[39msklearn\u001b[39;00m\u001b[39m.\u001b[39;00m\u001b[39mutils\u001b[39;00m\u001b[39m.\u001b[39;00m\u001b[39mmulticlass\u001b[39;00m \u001b[39mimport\u001b[39;00m unique_labels\n\u001b[0;32m----> <a href='vscode-notebook-cell:/Users/piyush/StudienArbeit/RF_test.ipynb#W6sZmlsZQ%3D%3D?line=1'>2</a>\u001b[0m unique_labels(y)\n\u001b[1;32m      <a href='vscode-notebook-cell:/Users/piyush/StudienArbeit/RF_test.ipynb#W6sZmlsZQ%3D%3D?line=3'>4</a>\u001b[0m \u001b[39m#combine labels with confusion matrix\u001b[39;00m\n\u001b[1;32m      <a href='vscode-notebook-cell:/Users/piyush/StudienArbeit/RF_test.ipynb#W6sZmlsZQ%3D%3D?line=4'>5</a>\u001b[0m \u001b[39mdef\u001b[39;00m \u001b[39mplot\u001b[39m(y, predictions):\n",
      "\u001b[0;31mNameError\u001b[0m: name 'y' is not defined"
     ]
    }
   ],
   "source": [
    "from sklearn.utils.multiclass import unique_labels\n",
    "unique_labels(y)\n",
    "\n",
    "#combine labels with confusion matrix\n",
    "def plot(y, predictions):\n",
    "    labels = unique_labels(y)\n",
    "    columns = ['0', '0.2-_LL-FXXf', '0.2-_LL-LBLf', '0.2-_LL-VBDf', '0.4-_LL-FXXf', '0.4-_LL-LBLf', '0.4-_LL-VBDf', '0.5-_LL-FXXf', '0.5-_LL-LBLf','0.5-_LL-VBDf','0.6-_LL-FXXf', '0.6-_LL-LBLf', '0.6-_LL-VBDf', '0.65-_LL-FXXf', '0.65-_LL-LBLf', '0.65-_LL-VBDf', '0.7-_LL-FXXf', '0.7-_LL-LBLf', '0.7-_LL-VBDf', '0.75-_LL-FXXf', '0.75-_LL-LBLf', '0.75-_LL-VBDf' ]\n",
    "    index =   ['0', '0.2-_LL-FXXf', '0.2-_LL-LBLf', '0.2-_LL-VBDf', '0.4-_LL-FXXf', '0.4-_LL-LBLf', '0.4-_LL-VBDf', '0.5-_LL-FXXf', '0.5-_LL-LBLf','0.5-_LL-VBDf','0.6-_LL-FXXf', '0.6-_LL-LBLf', '0.6-_LL-VBDf', '0.65-_LL-FXXf', '0.65-_LL-LBLf', '0.65-_LL-VBDf', '0.7-_LL-FXXf', '0.7-_LL-LBLf', '0.7-_LL-VBDf', '0.75-_LL-FXXf', '0.75-_LL-LBLf', '0.75-_LL-VBDf' ]\n",
    "    table = pd.DataFrame(confusion_matrix(y, predictions),\n",
    "                         columns = columns, index = index)\n",
    "    return sns.heatmap(table, annot=False,fmt='d', cmap='crest', linewidths=0.5)\n",
    "print(plt.title('Confusion Matrix for Load Condition'))\n",
    "plot(y, predictions)"
   ]
  }
 ],
 "metadata": {
  "kernelspec": {
   "display_name": "Arbeit-venv",
   "language": "python",
   "name": "python3"
  },
  "language_info": {
   "codemirror_mode": {
    "name": "ipython",
    "version": 3
   },
   "file_extension": ".py",
   "mimetype": "text/x-python",
   "name": "python",
   "nbconvert_exporter": "python",
   "pygments_lexer": "ipython3",
   "version": "3.9.6"
  }
 },
 "nbformat": 4,
 "nbformat_minor": 2
}
